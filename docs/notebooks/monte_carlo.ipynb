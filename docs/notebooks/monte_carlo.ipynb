{
 "cells": [
  {
   "cell_type": "markdown",
   "metadata": {},
   "source": [
    "# Symulacje Monte Carlo\n",
    "\n",
    "Ten notatnik prezentuje podstawowy przepływ pracy dla modułu Monte Carlo: ładowanie danych historycznych, generowanie ścieżek cenowych, kalkulację metryk ryzyka oraz przygotowanie raportu." 
   ]
  },
  {
   "cell_type": "code",
   "execution_count": null,
   "metadata": {},
   "outputs": [],
   "source": [
    "from pathlib import Path\n",
    "\n",
    "import pandas as pd\n",
    "\n",
    "from bot_core.simulation.monte_carlo import (\n",
    "    MonteCarloEngine,\n",
    "    MonteCarloScenario,\n",
    "    ModelType,\n",
    "    RiskParameters,\n",
    "    VolatilityConfig,\n",
    "    load_price_series,\n",
    ")\n",
    "from bot_core.reports.monte_carlo_report import MonteCarloReportBuilder\n",
    "\n",
    "class BuyHoldStrategy:\n",
    "    name = \"buy_hold\"\n",
    "\n",
    "    def evaluate_path(self, prices: pd.Series) -> float:\n",
    "        return float(prices.iloc[-1] / prices.iloc[0] - 1.0)\n",
    "\n",
    "prices = load_price_series(Path(\"data/sample_ohlcv/trend.csv\"))\n",
    "scenario = MonteCarloScenario(model=ModelType.GBM, volatility=VolatilityConfig())\n",
    "risk = RiskParameters(horizon_days=30, confidence_level=0.95, num_paths=256, seed=42)\n",
    "engine = MonteCarloEngine(scenario, risk)\n",
    "result = engine.run([BuyHoldStrategy()], prices)\n",
    "report = MonteCarloReportBuilder(result).build()\n",
    "report.summary"
   ]
  },
  {
   "cell_type": "code",
   "execution_count": null,
   "metadata": {},
   "outputs": [],
   "source": [
    "report.metadata"
   ]
  }
 ],
 "metadata": {
  "kernelspec": {
   "display_name": "Python 3",
   "language": "python",
   "name": "python3"
  },
  "language_info": {
   "name": "python",
   "version": "3.10"
  }
 },
 "nbformat": 4,
 "nbformat_minor": 5
}
